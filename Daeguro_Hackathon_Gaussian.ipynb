{
  "nbformat": 4,
  "nbformat_minor": 0,
  "metadata": {
    "colab": {
      "provenance": []
    },
    "kernelspec": {
      "name": "python3",
      "display_name": "Python 3"
    },
    "language_info": {
      "name": "python"
    }
  },
  "cells": [
    {
      "cell_type": "code",
      "source": [
        "from sklearn.datasets import load_iris\n",
        "from sklearn.cluster import KMeans\n",
        "from sklearn.mixture import GaussianMixture\n",
        "import pandas as pd\n",
        "\n",
        "df = pd.read_csv('/content/sample_data/(Final)yayaya4.csv')\n",
        "\n",
        "print(df)\n",
        "\n",
        "#MinMaxScaler 적용(표준화)\n",
        "from sklearn.preprocessing import MinMaxScaler\n",
        "scaler = MinMaxScaler()\n",
        "\n",
        "scaler.fit(df)\n",
        "df_scaled = scaler.transform(df)\n",
        "df_scaled\n",
        "df_scaled = pd.DataFrame(df_scaled, columns = ['2030대 인구', '유동인구','대구로카페주문고객'])\n",
        "\n",
        "df_scaled['총점'] = df_scaled['2030대 인구'] + df_scaled['유동인구']+ df_scaled['대구로카페주문고객']\n",
        "df_scaled\n",
        "\n",
        "\n",
        "gmm = GaussianMixture(n_components=3, random_state=0).fit(df_scaled)\n",
        "gmm\n",
        "gmm_cluster_labels = gmm.predict(df_scaled)\n",
        "\n",
        "df_scaled['gmm_cluster'] = gmm_cluster_labels\n",
        "print(df_scaled)\n",
        "\n",
        "df_scaled.to_csv('/content/sample_data/Gaussian_result.csv')"
      ],
      "metadata": {
        "colab": {
          "base_uri": "https://localhost:8080/"
        },
        "id": "M2t04PVeqc4y",
        "outputId": "38cfe125-47f5-4f47-8f9b-f0dd88c32136"
      },
      "execution_count": 2,
      "outputs": [
        {
          "output_type": "stream",
          "name": "stdout",
          "text": [
            "    1. 동별 2030대 인구수  2. 동별 유동인구  3. 대구로카페 주문고객\n",
            "0              2255    74000.00             14\n",
            "1              2015    47000.00             12\n",
            "2              4271    80000.00             43\n",
            "3              2239    61785.00              4\n",
            "4              9617   160352.00             52\n",
            "..              ...         ...            ...\n",
            "75             7108   140957.81             11\n",
            "76             7792   182033.00             59\n",
            "77             1417    75612.12              3\n",
            "78                0    68423.30              0\n",
            "79                0    76539.27             29\n",
            "\n",
            "[80 rows x 3 columns]\n",
            "    2030대 인구      유동인구  대구로카페주문고객        총점  gmm_cluster\n",
            "0   0.076237  0.166652   0.083333  0.326222            0\n",
            "1   0.068123  0.100188   0.071429  0.239739            0\n",
            "2   0.144393  0.181422   0.255952  0.581767            2\n",
            "3   0.075696  0.136583   0.023810  0.236088            0\n",
            "4   0.325129  0.379218   0.309524  1.013871            2\n",
            "..       ...       ...        ...       ...          ...\n",
            "75  0.240306  0.331477   0.065476  0.637259            2\n",
            "76  0.263430  0.432588   0.351190  1.047209            2\n",
            "77  0.047906  0.170620   0.017857  0.236383            0\n",
            "78  0.000000  0.152924   0.000000  0.152924            0\n",
            "79  0.000000  0.172903   0.172619  0.345522            2\n",
            "\n",
            "[80 rows x 5 columns]\n"
          ]
        }
      ]
    }
  ]
}